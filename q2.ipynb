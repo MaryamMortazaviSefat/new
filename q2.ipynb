{
  "nbformat": 4,
  "nbformat_minor": 0,
  "metadata": {
    "colab": {
      "provenance": [],
      "gpuType": "T4",
      "authorship_tag": "ABX9TyOU0pRTScDLker9BOwoLrh8",
      "include_colab_link": true
    },
    "kernelspec": {
      "name": "python3",
      "display_name": "Python 3"
    },
    "language_info": {
      "name": "python"
    },
    "accelerator": "GPU"
  },
  "cells": [
    {
      "cell_type": "markdown",
      "metadata": {
        "id": "view-in-github",
        "colab_type": "text"
      },
      "source": [
        "<a href=\"https://colab.research.google.com/github/MaryamMortazaviSefat/new/blob/main/q2.ipynb\" target=\"_parent\"><img src=\"https://colab.research.google.com/assets/colab-badge.svg\" alt=\"Open In Colab\"/></a>"
      ]
    },
    {
      "cell_type": "code",
      "execution_count": 2,
      "metadata": {
        "id": "lofwEaVpW4qa"
      },
      "outputs": [],
      "source": [
        "#load data\n",
        "!wget -q https://raw.githubusercontent.com/MaryamMortazaviSefat/practice2_Prediction-of-Persian-Numbers/refs/heads/main/data_hoda.py\n",
        "!wget -q https://github.com/MaryamMortazaviSefat/practice2_Prediction-of-Persian-Numbers/raw/refs/heads/main/dataset/Data_hoda_full.mat -P dataset"
      ]
    },
    {
      "cell_type": "code",
      "source": [
        "import numpy as np\n",
        "import matplotlib.pyplot as plt\n",
        "import tensorflow as tf\n",
        "from tensorflow import keras\n",
        "from tensorflow.keras import layers, losses\n",
        "from tensorflow.keras.models import Model\n",
        "from data_hoda import load_hoda\n",
        "import random"
      ],
      "metadata": {
        "id": "m95oLjkeW7bp"
      },
      "execution_count": 3,
      "outputs": []
    },
    {
      "cell_type": "code",
      "source": [
        "x_train,y_train,x_test,y_test=load_hoda(size=25)"
      ],
      "metadata": {
        "id": "QqB_KiekhpmH"
      },
      "execution_count": 4,
      "outputs": []
    },
    {
      "cell_type": "code",
      "source": [
        "x_train = x_train.astype('float32') / 255.\n",
        "x_test = x_test.astype('float32') / 255."
      ],
      "metadata": {
        "id": "77jUSmfMnoxo"
      },
      "execution_count": 5,
      "outputs": []
    },
    {
      "cell_type": "code",
      "source": [
        "x_train = x_train.reshape(-1, 25, 25, 1)\n",
        "x_test = x_test.reshape(-1, 25, 25, 1)"
      ],
      "metadata": {
        "id": "KvGRHfWb-zDh"
      },
      "execution_count": 6,
      "outputs": []
    },
    {
      "cell_type": "code",
      "source": [
        "x_test.shape"
      ],
      "metadata": {
        "colab": {
          "base_uri": "https://localhost:8080/"
        },
        "id": "9BX7WizLJ0oV",
        "outputId": "f0c731da-c750-42e4-a4a2-73ec088ce3d9"
      },
      "execution_count": 15,
      "outputs": [
        {
          "output_type": "execute_result",
          "data": {
            "text/plain": [
              "(200, 25, 25, 1)"
            ]
          },
          "metadata": {},
          "execution_count": 15
        }
      ]
    },
    {
      "cell_type": "code",
      "source": [
        "class ResidualBlock(layers.Layer):\n",
        "    def __init__(self, filters, kernel_size=3, strides=1):\n",
        "        super(ResidualBlock, self).__init__()\n",
        "        self.conv1 = layers.Conv2D(filters, kernel_size, strides=strides, padding='same')\n",
        "        self.bn1 = layers.BatchNormalization()\n",
        "        self.relu = layers.ReLU()\n",
        "        self.conv2 = layers.Conv2D(filters, kernel_size, strides=strides, padding='same')\n",
        "        self.bn2 = layers.BatchNormalization()\n",
        "\n",
        "        self.conv_shortcut = layers.Conv2D(filters, kernel_size=1, strides=strides, padding='same')\n",
        "\n",
        "\n",
        "    def call(self, x):\n",
        "        shortcut = self.conv_shortcut(x)\n",
        "        x = self.conv1(x)\n",
        "        x = self.bn1(x)\n",
        "        x = self.relu(x)\n",
        "        x = self.conv2(x)\n",
        "        x = self.bn2(x)\n",
        "\n",
        "        x += shortcut\n",
        "        return self.relu(x)"
      ],
      "metadata": {
        "id": "fSFp7Lsv5uY8"
      },
      "execution_count": 58,
      "outputs": []
    },
    {
      "cell_type": "code",
      "source": [
        "class Cnn(Model):\n",
        "  def __init__(self, num):\n",
        "    super(Cnn, self).__init__()\n",
        "    self.conv1 = layers.Conv2D(32, (3, 3), padding='same')\n",
        "    self.bn1 = layers.BatchNormalization()\n",
        "    self.res_block1 = ResidualBlock(64)\n",
        "    self.res_block2 = ResidualBlock(128)\n",
        "    self.res_block3 = ResidualBlock(200)\n",
        "    self.pool = layers.MaxPooling2D(pool_size=(2, 2))\n",
        "    self.flatten = layers.Flatten()\n",
        "    self.fc = layers.Dense(num, activation='softmax')\n",
        "\n",
        "  def call(self, x):\n",
        "    x = self.conv1(x)\n",
        "    x = self.bn1(x)\n",
        "    x = self.pool(x)\n",
        "\n",
        "    x = self.res_block1(x)\n",
        "    x = self.pool(x)\n",
        "    x = self.res_block2(x)\n",
        "    x = self.pool(x)\n",
        "    x = self.res_block3(x)\n",
        "    x = self.pool(x)\n",
        "\n",
        "    x = self.flatten(x)\n",
        "    return self.fc(x)\n",
        "\n",
        "num = 10\n",
        "batch_size = 32\n",
        "epochs = 30\n",
        "\n",
        "model = Cnn(num=num)\n",
        "model.compile(optimizer='adam', loss='sparse_categorical_crossentropy', metrics=['accuracy'])"
      ],
      "metadata": {
        "id": "kJZIQ7Rjh0Dh"
      },
      "execution_count": 85,
      "outputs": []
    },
    {
      "cell_type": "code",
      "source": [
        "model.fit(x_train, y_train, validation_data=(x_test, y_test), epochs=epochs, batch_size=batch_size)\n",
        "test_loss, test_acc = model.evaluate(x_test, y_test, verbose=0)"
      ],
      "metadata": {
        "id": "lo-sjD-vhm8d",
        "outputId": "c159a475-cca3-437f-e48a-b47f3f8d128d",
        "colab": {
          "base_uri": "https://localhost:8080/"
        }
      },
      "execution_count": 86,
      "outputs": [
        {
          "output_type": "stream",
          "name": "stdout",
          "text": [
            "Epoch 1/30\n",
            "\u001b[1m32/32\u001b[0m \u001b[32m━━━━━━━━━━━━━━━━━━━━\u001b[0m\u001b[37m\u001b[0m \u001b[1m13s\u001b[0m 172ms/step - accuracy: 0.3977 - loss: 1.7362 - val_accuracy: 0.8800 - val_loss: 0.3691\n",
            "Epoch 2/30\n",
            "\u001b[1m32/32\u001b[0m \u001b[32m━━━━━━━━━━━━━━━━━━━━\u001b[0m\u001b[37m\u001b[0m \u001b[1m0s\u001b[0m 9ms/step - accuracy: 0.8971 - loss: 0.3172 - val_accuracy: 0.8950 - val_loss: 0.2594\n",
            "Epoch 3/30\n",
            "\u001b[1m32/32\u001b[0m \u001b[32m━━━━━━━━━━━━━━━━━━━━\u001b[0m\u001b[37m\u001b[0m \u001b[1m0s\u001b[0m 7ms/step - accuracy: 0.9293 - loss: 0.2213 - val_accuracy: 0.9300 - val_loss: 0.1826\n",
            "Epoch 4/30\n",
            "\u001b[1m32/32\u001b[0m \u001b[32m━━━━━━━━━━━━━━━━━━━━\u001b[0m\u001b[37m\u001b[0m \u001b[1m0s\u001b[0m 7ms/step - accuracy: 0.9779 - loss: 0.0737 - val_accuracy: 0.9450 - val_loss: 0.1547\n",
            "Epoch 5/30\n",
            "\u001b[1m32/32\u001b[0m \u001b[32m━━━━━━━━━━━━━━━━━━━━\u001b[0m\u001b[37m\u001b[0m \u001b[1m0s\u001b[0m 7ms/step - accuracy: 0.9889 - loss: 0.0371 - val_accuracy: 0.9650 - val_loss: 0.1471\n",
            "Epoch 6/30\n",
            "\u001b[1m32/32\u001b[0m \u001b[32m━━━━━━━━━━━━━━━━━━━━\u001b[0m\u001b[37m\u001b[0m \u001b[1m0s\u001b[0m 6ms/step - accuracy: 0.9912 - loss: 0.0229 - val_accuracy: 0.9350 - val_loss: 0.2103\n",
            "Epoch 7/30\n",
            "\u001b[1m32/32\u001b[0m \u001b[32m━━━━━━━━━━━━━━━━━━━━\u001b[0m\u001b[37m\u001b[0m \u001b[1m0s\u001b[0m 6ms/step - accuracy: 0.9886 - loss: 0.0332 - val_accuracy: 0.9500 - val_loss: 0.1831\n",
            "Epoch 8/30\n",
            "\u001b[1m32/32\u001b[0m \u001b[32m━━━━━━━━━━━━━━━━━━━━\u001b[0m\u001b[37m\u001b[0m \u001b[1m0s\u001b[0m 6ms/step - accuracy: 0.9864 - loss: 0.0418 - val_accuracy: 0.9700 - val_loss: 0.1326\n",
            "Epoch 9/30\n",
            "\u001b[1m32/32\u001b[0m \u001b[32m━━━━━━━━━━━━━━━━━━━━\u001b[0m\u001b[37m\u001b[0m \u001b[1m0s\u001b[0m 6ms/step - accuracy: 0.9939 - loss: 0.0268 - val_accuracy: 0.9600 - val_loss: 0.1287\n",
            "Epoch 10/30\n",
            "\u001b[1m32/32\u001b[0m \u001b[32m━━━━━━━━━━━━━━━━━━━━\u001b[0m\u001b[37m\u001b[0m \u001b[1m0s\u001b[0m 6ms/step - accuracy: 0.9981 - loss: 0.0031 - val_accuracy: 0.9700 - val_loss: 0.1115\n",
            "Epoch 11/30\n",
            "\u001b[1m32/32\u001b[0m \u001b[32m━━━━━━━━━━━━━━━━━━━━\u001b[0m\u001b[37m\u001b[0m \u001b[1m0s\u001b[0m 6ms/step - accuracy: 1.0000 - loss: 1.9144e-04 - val_accuracy: 0.9850 - val_loss: 0.1100\n",
            "Epoch 12/30\n",
            "\u001b[1m32/32\u001b[0m \u001b[32m━━━━━━━━━━━━━━━━━━━━\u001b[0m\u001b[37m\u001b[0m \u001b[1m0s\u001b[0m 6ms/step - accuracy: 1.0000 - loss: 1.8663e-04 - val_accuracy: 0.9750 - val_loss: 0.1131\n",
            "Epoch 13/30\n",
            "\u001b[1m32/32\u001b[0m \u001b[32m━━━━━━━━━━━━━━━━━━━━\u001b[0m\u001b[37m\u001b[0m \u001b[1m0s\u001b[0m 6ms/step - accuracy: 1.0000 - loss: 8.0804e-05 - val_accuracy: 0.9750 - val_loss: 0.1139\n",
            "Epoch 14/30\n",
            "\u001b[1m32/32\u001b[0m \u001b[32m━━━━━━━━━━━━━━━━━━━━\u001b[0m\u001b[37m\u001b[0m \u001b[1m0s\u001b[0m 6ms/step - accuracy: 1.0000 - loss: 8.0707e-05 - val_accuracy: 0.9800 - val_loss: 0.1153\n",
            "Epoch 15/30\n",
            "\u001b[1m32/32\u001b[0m \u001b[32m━━━━━━━━━━━━━━━━━━━━\u001b[0m\u001b[37m\u001b[0m \u001b[1m0s\u001b[0m 6ms/step - accuracy: 1.0000 - loss: 5.9756e-05 - val_accuracy: 0.9800 - val_loss: 0.1172\n",
            "Epoch 16/30\n",
            "\u001b[1m32/32\u001b[0m \u001b[32m━━━━━━━━━━━━━━━━━━━━\u001b[0m\u001b[37m\u001b[0m \u001b[1m0s\u001b[0m 6ms/step - accuracy: 1.0000 - loss: 5.1272e-05 - val_accuracy: 0.9800 - val_loss: 0.1187\n",
            "Epoch 17/30\n",
            "\u001b[1m32/32\u001b[0m \u001b[32m━━━━━━━━━━━━━━━━━━━━\u001b[0m\u001b[37m\u001b[0m \u001b[1m0s\u001b[0m 6ms/step - accuracy: 1.0000 - loss: 4.7262e-05 - val_accuracy: 0.9800 - val_loss: 0.1198\n",
            "Epoch 18/30\n",
            "\u001b[1m32/32\u001b[0m \u001b[32m━━━━━━━━━━━━━━━━━━━━\u001b[0m\u001b[37m\u001b[0m \u001b[1m0s\u001b[0m 6ms/step - accuracy: 1.0000 - loss: 3.6551e-05 - val_accuracy: 0.9750 - val_loss: 0.1206\n",
            "Epoch 19/30\n",
            "\u001b[1m32/32\u001b[0m \u001b[32m━━━━━━━━━━━━━━━━━━━━\u001b[0m\u001b[37m\u001b[0m \u001b[1m0s\u001b[0m 6ms/step - accuracy: 1.0000 - loss: 2.6746e-05 - val_accuracy: 0.9750 - val_loss: 0.1215\n",
            "Epoch 20/30\n",
            "\u001b[1m32/32\u001b[0m \u001b[32m━━━━━━━━━━━━━━━━━━━━\u001b[0m\u001b[37m\u001b[0m \u001b[1m0s\u001b[0m 6ms/step - accuracy: 1.0000 - loss: 3.9810e-05 - val_accuracy: 0.9750 - val_loss: 0.1225\n",
            "Epoch 21/30\n",
            "\u001b[1m32/32\u001b[0m \u001b[32m━━━━━━━━━━━━━━━━━━━━\u001b[0m\u001b[37m\u001b[0m \u001b[1m0s\u001b[0m 6ms/step - accuracy: 1.0000 - loss: 2.6567e-05 - val_accuracy: 0.9800 - val_loss: 0.1234\n",
            "Epoch 22/30\n",
            "\u001b[1m32/32\u001b[0m \u001b[32m━━━━━━━━━━━━━━━━━━━━\u001b[0m\u001b[37m\u001b[0m \u001b[1m0s\u001b[0m 6ms/step - accuracy: 1.0000 - loss: 2.9187e-05 - val_accuracy: 0.9800 - val_loss: 0.1250\n",
            "Epoch 23/30\n",
            "\u001b[1m32/32\u001b[0m \u001b[32m━━━━━━━━━━━━━━━━━━━━\u001b[0m\u001b[37m\u001b[0m \u001b[1m0s\u001b[0m 6ms/step - accuracy: 1.0000 - loss: 2.7917e-05 - val_accuracy: 0.9800 - val_loss: 0.1257\n",
            "Epoch 24/30\n",
            "\u001b[1m32/32\u001b[0m \u001b[32m━━━━━━━━━━━━━━━━━━━━\u001b[0m\u001b[37m\u001b[0m \u001b[1m0s\u001b[0m 6ms/step - accuracy: 1.0000 - loss: 1.8634e-05 - val_accuracy: 0.9800 - val_loss: 0.1264\n",
            "Epoch 25/30\n",
            "\u001b[1m32/32\u001b[0m \u001b[32m━━━━━━━━━━━━━━━━━━━━\u001b[0m\u001b[37m\u001b[0m \u001b[1m0s\u001b[0m 6ms/step - accuracy: 1.0000 - loss: 1.9863e-05 - val_accuracy: 0.9800 - val_loss: 0.1277\n",
            "Epoch 26/30\n",
            "\u001b[1m32/32\u001b[0m \u001b[32m━━━━━━━━━━━━━━━━━━━━\u001b[0m\u001b[37m\u001b[0m \u001b[1m0s\u001b[0m 8ms/step - accuracy: 1.0000 - loss: 1.5676e-05 - val_accuracy: 0.9800 - val_loss: 0.1294\n",
            "Epoch 27/30\n",
            "\u001b[1m32/32\u001b[0m \u001b[32m━━━━━━━━━━━━━━━━━━━━\u001b[0m\u001b[37m\u001b[0m \u001b[1m0s\u001b[0m 9ms/step - accuracy: 1.0000 - loss: 1.5326e-05 - val_accuracy: 0.9800 - val_loss: 0.1299\n",
            "Epoch 28/30\n",
            "\u001b[1m32/32\u001b[0m \u001b[32m━━━━━━━━━━━━━━━━━━━━\u001b[0m\u001b[37m\u001b[0m \u001b[1m1s\u001b[0m 7ms/step - accuracy: 1.0000 - loss: 1.4471e-05 - val_accuracy: 0.9800 - val_loss: 0.1318\n",
            "Epoch 29/30\n",
            "\u001b[1m32/32\u001b[0m \u001b[32m━━━━━━━━━━━━━━━━━━━━\u001b[0m\u001b[37m\u001b[0m \u001b[1m0s\u001b[0m 9ms/step - accuracy: 1.0000 - loss: 1.6030e-05 - val_accuracy: 0.9800 - val_loss: 0.1319\n",
            "Epoch 30/30\n",
            "\u001b[1m32/32\u001b[0m \u001b[32m━━━━━━━━━━━━━━━━━━━━\u001b[0m\u001b[37m\u001b[0m \u001b[1m1s\u001b[0m 9ms/step - accuracy: 1.0000 - loss: 1.2295e-05 - val_accuracy: 0.9800 - val_loss: 0.1329\n"
          ]
        }
      ]
    },
    {
      "cell_type": "code",
      "source": [
        "print(\"Test accuracy:\", test_acc)"
      ],
      "metadata": {
        "id": "uaum38QRhq5-",
        "outputId": "5d1eda88-86c5-406f-f047-612f628d94b1",
        "colab": {
          "base_uri": "https://localhost:8080/"
        }
      },
      "execution_count": 87,
      "outputs": [
        {
          "output_type": "stream",
          "name": "stdout",
          "text": [
            "Test accuracy: 0.9800000190734863\n"
          ]
        }
      ]
    }
  ]
}